{
 "cells": [
  {
   "cell_type": "markdown",
   "metadata": {},
   "source": [
    "\n",
    "# Projet Maison 2"
   ]
  },
  {
   "cell_type": "code",
   "execution_count": 77,
   "metadata": {},
   "outputs": [],
   "source": [
    "# import des modules usuels\n",
    "import numpy as np\n",
    "import pandas as pd\n",
    "\n",
    "# options d'affichage\n",
    "pd.set_option(\"display.min_rows\", 16)"
   ]
  },
  {
   "cell_type": "code",
   "execution_count": 78,
   "metadata": {
    "scrolled": true
   },
   "outputs": [],
   "source": [
    "# chargement et traitement des données\n",
    "GEO = pd.read_csv(\"correspondance-code-insee-code-postal.csv\",\n",
    "                   sep=';',\n",
    "                   usecols=range(11),\n",
    "                   index_col=\"Code INSEE\")\n",
    "\n",
    "# - lat, lon : latitude et longitude des communes\n",
    "GEO[['lat','lon']] = GEO['geo_point_2d'].str.extract('(.*), (.*)').astype(float)\n",
    "\n",
    "# - cp_ville : Code Postal + \" \" + \"Commune\"\n",
    "GEO['cp_ville'] = GEO['Code Postal'] + \" \" + GEO['Commune']"
   ]
  },
  {
   "cell_type": "markdown",
   "metadata": {},
   "source": [
    "**Partie A**\n",
    "\n",
    "- Compléter le chargement des données en ajoutant au dataframe `GEO`\n",
    "    - les colonnes \"lat\" et \"lon\" avec la latitude et la longitude des communes\n",
    "    - une colonne \"cp_ville\" avec le Code Postal + un espace + et le nom de la Commune\n",
    "- Ecrire une fonction `search_city(lat, lon)` qui retourne le \"cp_ville\" de la commune la plus proche d'un point à partir de sa latitude et sa longitude.\n",
    "- Ecrire une fonction `dms2dec(deg, min, sec)` qui convertit les degrés, minutes, secondes en valeur numérique pour pouvoir utiliser la fonction précédente avec un GPS."
   ]
  },
  {
   "cell_type": "code",
   "execution_count": 79,
   "metadata": {},
   "outputs": [],
   "source": [
    "# fonction recherche de ville\n",
    "def search_city(lat, long):\n",
    "    \n",
    "    lat_ = (GEO['lat'] - lat) ** 2\n",
    "    long_ = (GEO['lon'] - long) ** 2 \n",
    "    euclidian_distance = np.sqrt(lat_ + long_)\n",
    "    \n",
    "    GEO['distance'] = euclidian_distance\n",
    "    \n",
    "    return GEO['cp_ville'][GEO['distance'] == GEO['distance'].min()].values[0]"
   ]
  },
  {
   "cell_type": "code",
   "execution_count": 80,
   "metadata": {},
   "outputs": [],
   "source": [
    "# conversion degrés, minutes, secondes => décimal\n",
    "def dms2dec(deg, mn, sec):\n",
    "    \n",
    "    return deg + (mn/60) + (sec/3600)"
   ]
  },
  {
   "cell_type": "code",
   "execution_count": 81,
   "metadata": {},
   "outputs": [],
   "source": [
    "# on applique la fonction à une coordonnée tirée au hasard\n",
    "np.random.seed(0)\n",
    "a, b = 41.5, 51.1  # latitude min et max de la France métropolitaine\n",
    "lat = np.random.uniform(a, b)\n",
    "a, b = -5.1, 9.5  # longitude min et max de la France métropolitaine\n",
    "lon = np.random.uniform(a, b)"
   ]
  },
  {
   "cell_type": "code",
   "execution_count": 82,
   "metadata": {},
   "outputs": [
    {
     "data": {
      "text/plain": [
       "'91120 PALAISEAU'"
      ]
     },
     "execution_count": 82,
     "metadata": {},
     "output_type": "execute_result"
    }
   ],
   "source": [
    "# à partir de coordonnées GPS précises\n",
    "search_city(dms2dec(48, 42, 52), dms2dec(2, 14, 45))"
   ]
  },
  {
   "cell_type": "markdown",
   "metadata": {},
   "source": [
    "**Partie B**\n",
    "\n",
    "La colonne \"geo_shape\" comporte des chaines de catactères au format JSON. Elles représentent les formes géométriques des communes qui sont soit des polygones soit composées de plusieurs polygones.\n",
    "\n",
    "- Utiliser la librairie Python **json** pour parser les valeurs de la colonne \"geo_shape\" et mettre le résultat (`Series`) dans la variable `GEO_SHAPE`.\n",
    "- Ecrire une fonction `get_types()` qui retourne le décompte (`value_counts()`) des valeurs accédées avec la clé \"type\".\n",
    "- Ecrire une fonction `get_coordinates_len()` qui retourne le décompte (`value_counts()`) des longueurs des listes accédées avec la clé \"coordinates\".\n",
    "- Ecrire une fonction `get_most_complex_city()` qui retourne la commune est constituée du plus grand nombre de polygones ?\n",
    "- Ecrire une fonction `get_nb_cities_2_polygons()` qui retourne  le nombre de villes qui sont de type \"Polygon\" mais dont la longueur des listes accédées avec la clé \"coordinates\" vaut 2 ?\n",
    "- **Facultatif :**\n",
    "- Pour ces villes vérifier que le premier polygone contient bien le second (enclave). NB : on pourra installer la librairie **shapely**, utiliser la classe Polygon de **shapely.geometry**  et la méthode `contains()`. Sur Windows **shapely** peut nécessiter d'installer manuellement la dll \"geos_c.dll\" dans le répertoire \"Library/bin\" de votre environnement Python."
   ]
  },
  {
   "cell_type": "code",
   "execution_count": 83,
   "metadata": {},
   "outputs": [],
   "source": [
    "import json\n",
    "shape = [json.loads(x) for x in GEO['geo_shape'].values]\n",
    "df_shape = pd.DataFrame.from_records(shape)\n",
    "GEO_TYPE = pd.Series(df_shape['type'], dtype=object)\n",
    "GEO_SHAPE = pd.Series(df_shape['coordinates'], dtype=object)"
   ]
  },
  {
   "cell_type": "code",
   "execution_count": 84,
   "metadata": {},
   "outputs": [],
   "source": [
    "### Q1 ###\n",
    "def get_types():\n",
    "    d = {index : value for index, value in zip(GEO_TYPE.value_counts().index, GEO_TYPE.value_counts().values)}\n",
    "    return d "
   ]
  },
  {
   "cell_type": "code",
   "execution_count": 85,
   "metadata": {},
   "outputs": [],
   "source": [
    "### Q2 ###\n",
    "df_shape['len'] = df_shape['coordinates'].apply(lambda x : len(x))\n",
    "GEO_SHAPE_len = pd.Series(df_shape['len'], dtype=object)\n",
    "\n",
    "def get_coordinates_len():\n",
    "    d = {index : value for index, value in zip(GEO_SHAPE_len.value_counts().index, GEO_SHAPE_len.value_counts().values)}\n",
    "    return d"
   ]
  },
  {
   "cell_type": "code",
   "execution_count": 86,
   "metadata": {},
   "outputs": [],
   "source": [
    "### Q3 ###\n",
    "GEO['type'] = GEO['geo_shape'].apply(lambda x : json.loads(x)['type']) # Utile pour la question 3 / 4\n",
    "GEO['nb_polygones'] = GEO['geo_shape'][(GEO['type'] == 'MultiPolygon')].apply(lambda x : len(json.loads(x)['coordinates']))\n",
    "GEO_polys = GEO.dropna() # NaN pour les types polygons, on ne s'interesse qu'aux \n",
    "\n",
    "def get_most_complex_city():\n",
    "    \n",
    "        city = GEO_polys['cp_ville'][GEO_polys['nb_polygones'] == GEO_polys['nb_polygones'].max()].values[0]\n",
    "        return city"
   ]
  },
  {
   "cell_type": "code",
   "execution_count": 87,
   "metadata": {},
   "outputs": [],
   "source": [
    "### Q4 ###\n",
    "GEO['len_poly'] = GEO['geo_shape'][(GEO['type'] == 'Polygon')].apply(lambda x : len(json.loads(x)['coordinates']))\n",
    "\n",
    "def get_nb_cities_2_polygons():\n",
    "    \n",
    "    nb_cities = len(GEO['cp_ville'][(GEO['type'] == 'Polygon') & (GEO['len_poly'] == 2)].values)\n",
    "    return nb_cities"
   ]
  },
  {
   "cell_type": "code",
   "execution_count": 88,
   "metadata": {},
   "outputs": [],
   "source": [
    "# tests\n",
    "import unittest\n",
    "\n",
    "class Session2Test(unittest.TestCase):\n",
    "    \n",
    "    def test_partie_A1(self):\n",
    "        # on applique la fonction cherche_ville() à une coordonnée tirée au hasard\n",
    "        np.random.seed(0)\n",
    "        a, b = 41.5, 51.1  # latitude min et max de la France métropolitaine\n",
    "        lat = np.random.uniform(a, b)\n",
    "        a, b = -5.1, 9.5  # longitude min et max de la France métropolitaine\n",
    "        lon = np.random.uniform(a, b)\n",
    "\n",
    "        cp_ville = search_city(lat, lon)\n",
    "        self.assertEqual(cp_ville, \"71330 BOSJEAN\")\n",
    "        \n",
    "    def test_partie_A2(self):\n",
    "        # à partir de coordonnées GPS précises\n",
    "        cp_ville = search_city(dms2dec(48, 42, 52), dms2dec(2, 14, 45))\n",
    "        self.assertEqual(cp_ville, \"91120 PALAISEAU\")\n",
    "        \n",
    "    def test_partie_B1(self):\n",
    "        # check types\n",
    "        dico = get_types()\n",
    "        self.assertEqual(dico[\"Polygon\"], 36670)\n",
    "        self.assertEqual(dico[\"MultiPolygon\"], 72)\n",
    "        \n",
    "    def test_partie_B2(self):\n",
    "        # check coordinates len\n",
    "        dico = get_coordinates_len()\n",
    "        self.assertEqual(dico[1], 36660)\n",
    "        self.assertEqual(dico[2], 80)\n",
    "       \n",
    "    def test_partie_B3(self):\n",
    "        # check most complex city\n",
    "        cp_ville = get_most_complex_city()\n",
    "        self.assertEqual(cp_ville, \"83400 HYERES\")\n",
    "        \n",
    "    def test_partie_B4(self):\n",
    "        # check nb cities 2 polygons\n",
    "        nb = get_nb_cities_2_polygons()\n",
    "        self.assertEqual(nb, 10)"
   ]
  },
  {
   "cell_type": "code",
   "execution_count": 89,
   "metadata": {},
   "outputs": [
    {
     "name": "stderr",
     "output_type": "stream",
     "text": [
      "test_partie_A1 (__main__.Session2Test) ... ok\n",
      "test_partie_A2 (__main__.Session2Test) ... ok\n",
      "test_partie_B1 (__main__.Session2Test) ... ok\n",
      "test_partie_B2 (__main__.Session2Test) ... ok\n",
      "test_partie_B3 (__main__.Session2Test) ... ok\n",
      "test_partie_B4 (__main__.Session2Test) ... ok\n",
      "\n",
      "----------------------------------------------------------------------\n",
      "Ran 6 tests in 0.051s\n",
      "\n",
      "OK\n"
     ]
    }
   ],
   "source": [
    "# run tests\n",
    "def run_tests():\n",
    "    test_suite = unittest.makeSuite(Session2Test)\n",
    "    runner = unittest.TextTestRunner(verbosity=2)\n",
    "    runner.run(test_suite)\n",
    "    \n",
    "run_tests()"
   ]
  }
 ],
 "metadata": {
  "anaconda-cloud": {},
  "kernelspec": {
   "display_name": "Python 3 (ipykernel)",
   "language": "python",
   "name": "python3"
  },
  "language_info": {
   "codemirror_mode": {
    "name": "ipython",
    "version": 3
   },
   "file_extension": ".py",
   "mimetype": "text/x-python",
   "name": "python",
   "nbconvert_exporter": "python",
   "pygments_lexer": "ipython3",
   "version": "3.9.12"
  }
 },
 "nbformat": 4,
 "nbformat_minor": 4
}
